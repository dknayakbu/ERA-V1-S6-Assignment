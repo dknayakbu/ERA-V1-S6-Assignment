{
  "nbformat": 4,
  "nbformat_minor": 0,
  "metadata": {
    "colab": {
      "provenance": [],
      "gpuType": "T4"
    },
    "kernelspec": {
      "name": "python3",
      "display_name": "Python 3"
    },
    "accelerator": "GPU"
  },
  "cells": [
    {
      "cell_type": "code",
      "metadata": {
        "id": "0m2JWFliFfKT"
      },
      "source": [
        "from __future__ import print_function\n",
        "import numpy as np\n",
        "import torch\n",
        "import torch.nn as nn\n",
        "import torch.nn.functional as F\n",
        "import torch.optim as optim\n",
        "from torchvision import datasets, transforms\n",
        "# from torch.utils.data import DataLoader, random_split"
      ],
      "execution_count": 1,
      "outputs": []
    },
    {
      "cell_type": "code",
      "source": [
        "class Net(nn.Module):\n",
        "    def __init__(self):\n",
        "        super(Net, self).__init__()\n",
        "        \n",
        "        self.conv1 = nn.Sequential(\n",
        "            nn.Conv2d(1, 16, 3, padding=1),\n",
        "            nn.ReLU(),\n",
        "            nn.BatchNorm2d(16),\n",
        "            nn.Conv2d(16, 16, 3, stride=2, padding=1),\n",
        "            nn.ReLU(),\n",
        "            nn.BatchNorm2d(16),\n",
        "            nn.MaxPool2d(2, 2),\n",
        "            nn.Dropout(0.25)\n",
        "        )\n",
        "        \n",
        "        self.conv2 = nn.Sequential(\n",
        "            nn.Conv2d(16, 16, 3, padding=1),\n",
        "            nn.ReLU(),\n",
        "            nn.BatchNorm2d(16),\n",
        "            nn.Conv2d(16, 16, 3, stride=2, padding=1),\n",
        "            nn.ReLU(),\n",
        "            nn.BatchNorm2d(16),\n",
        "            nn.MaxPool2d(2, 2),\n",
        "            nn.Dropout(0.25)\n",
        "        )\n",
        "\n",
        "        self.conv3 = nn.Sequential(\n",
        "            nn.Conv2d(16, 16, 3, padding=1),\n",
        "            nn.ReLU(),\n",
        "            nn.BatchNorm2d(16),\n",
        "            nn.Conv2d(16, 16, 3, stride=2, padding=1),\n",
        "            nn.ReLU(),\n",
        "            nn.BatchNorm2d(16),\n",
        "            nn.Dropout(0.25)\n",
        "        )\n",
        "        \n",
        "        \n",
        "    def forward(self, x):\n",
        "        x = self.conv1(x)\n",
        "        x = self.conv2(x)\n",
        "        x = self.conv3(x)\n",
        "        \n",
        "        x = x.view(x.size(0), -1)\n",
        "        # x = nn.GovalAvgPooling(x)\n",
        "        x = F.log_softmax(x, dim=1)\n",
        "        return x"
      ],
      "metadata": {
        "id": "X5HMDVy_DZXt"
      },
      "execution_count": 2,
      "outputs": []
    },
    {
      "cell_type": "code",
      "metadata": {
        "id": "xdydjYTZFyi3",
        "colab": {
          "base_uri": "https://localhost:8080/"
        },
        "outputId": "ba924afa-1bc4-44e0-bf66-98e87fbcbfdb"
      },
      "source": [
        "!pip install torchsummary\n",
        "from torchsummary import summary\n",
        "use_cuda = torch.cuda.is_available()\n",
        "device = torch.device(\"cuda\" if use_cuda else \"cpu\")\n",
        "model = Net().to(device)\n",
        "summary(model, input_size=(1, 28, 28))"
      ],
      "execution_count": 3,
      "outputs": [
        {
          "output_type": "stream",
          "name": "stdout",
          "text": [
            "Looking in indexes: https://pypi.org/simple, https://us-python.pkg.dev/colab-wheels/public/simple/\n",
            "Requirement already satisfied: torchsummary in /usr/local/lib/python3.10/dist-packages (1.5.1)\n",
            "----------------------------------------------------------------\n",
            "        Layer (type)               Output Shape         Param #\n",
            "================================================================\n",
            "            Conv2d-1           [-1, 16, 28, 28]             160\n",
            "              ReLU-2           [-1, 16, 28, 28]               0\n",
            "       BatchNorm2d-3           [-1, 16, 28, 28]              32\n",
            "            Conv2d-4           [-1, 16, 14, 14]           2,320\n",
            "              ReLU-5           [-1, 16, 14, 14]               0\n",
            "       BatchNorm2d-6           [-1, 16, 14, 14]              32\n",
            "         MaxPool2d-7             [-1, 16, 7, 7]               0\n",
            "           Dropout-8             [-1, 16, 7, 7]               0\n",
            "            Conv2d-9             [-1, 16, 7, 7]           2,320\n",
            "             ReLU-10             [-1, 16, 7, 7]               0\n",
            "      BatchNorm2d-11             [-1, 16, 7, 7]              32\n",
            "           Conv2d-12             [-1, 16, 4, 4]           2,320\n",
            "             ReLU-13             [-1, 16, 4, 4]               0\n",
            "      BatchNorm2d-14             [-1, 16, 4, 4]              32\n",
            "        MaxPool2d-15             [-1, 16, 2, 2]               0\n",
            "          Dropout-16             [-1, 16, 2, 2]               0\n",
            "           Conv2d-17             [-1, 16, 2, 2]           2,320\n",
            "             ReLU-18             [-1, 16, 2, 2]               0\n",
            "      BatchNorm2d-19             [-1, 16, 2, 2]              32\n",
            "           Conv2d-20             [-1, 16, 1, 1]           2,320\n",
            "             ReLU-21             [-1, 16, 1, 1]               0\n",
            "      BatchNorm2d-22             [-1, 16, 1, 1]              32\n",
            "          Dropout-23             [-1, 16, 1, 1]               0\n",
            "================================================================\n",
            "Total params: 11,952\n",
            "Trainable params: 11,952\n",
            "Non-trainable params: 0\n",
            "----------------------------------------------------------------\n",
            "Input size (MB): 0.00\n",
            "Forward/backward pass size (MB): 0.40\n",
            "Params size (MB): 0.05\n",
            "Estimated Total Size (MB): 0.45\n",
            "----------------------------------------------------------------\n"
          ]
        }
      ]
    },
    {
      "cell_type": "code",
      "metadata": {
        "id": "DqTWLaM5GHgH"
      },
      "source": [
        "\n",
        "\n",
        "torch.manual_seed(1)\n",
        "batch_size = 128\n",
        "\n",
        "kwargs = {'num_workers': 1, 'pin_memory': True} if use_cuda else {}\n",
        "train_loader = torch.utils.data.DataLoader(\n",
        "    datasets.MNIST('../data', train=True, download=True,\n",
        "                    transform=transforms.Compose([\n",
        "                        transforms.ToTensor(),\n",
        "                        transforms.Normalize((0.1307,), (0.3081,))\n",
        "                    ])),\n",
        "    batch_size=batch_size, shuffle=True, **kwargs)\n",
        "test_loader = torch.utils.data.DataLoader(\n",
        "    datasets.MNIST('../data', train=False, transform=transforms.Compose([\n",
        "                        transforms.ToTensor(),\n",
        "                        transforms.Normalize((0.1307,), (0.3081,))\n",
        "                    ])),\n",
        "    batch_size=batch_size, shuffle=True, **kwargs)\n"
      ],
      "execution_count": 4,
      "outputs": []
    },
    {
      "cell_type": "code",
      "source": [
        "print(\"Train datset size =\",len(train_loader))\n",
        "print(\"Test datset size =\",len(test_loader))"
      ],
      "metadata": {
        "colab": {
          "base_uri": "https://localhost:8080/"
        },
        "id": "-eA-UXBgQPr6",
        "outputId": "1b8cc0b9-ce92-4dfd-a5eb-9580c6c76056"
      },
      "execution_count": 5,
      "outputs": [
        {
          "output_type": "stream",
          "name": "stdout",
          "text": [
            "Train datset size = 469\n",
            "Test datset size = 79\n"
          ]
        }
      ]
    },
    {
      "cell_type": "code",
      "metadata": {
        "id": "8fDefDhaFlwH"
      },
      "source": [
        "from tqdm import tqdm\n",
        "def train(model, device, train_loader, optimizer, epoch):\n",
        "    model.train()\n",
        "    pbar = tqdm(train_loader)\n",
        "    for batch_idx, (data, target) in enumerate(pbar):\n",
        "        data, target = data.to(device), target.to(device)\n",
        "        optimizer.zero_grad()\n",
        "        output = model(data)\n",
        "        loss = F.nll_loss(output, target)\n",
        "        loss.backward()\n",
        "        optimizer.step()\n",
        "        pbar.set_description(desc= f'loss={loss.item()} batch_id={batch_idx}')\n",
        "\n",
        "\n",
        "def test(model, device, test_loader):\n",
        "    model.eval()\n",
        "    test_loss = 0\n",
        "    correct = 0\n",
        "    with torch.no_grad():\n",
        "        for data, target in test_loader:\n",
        "            data, target = data.to(device), target.to(device)\n",
        "            output = model(data)\n",
        "            test_loss += F.nll_loss(output, target, reduction='sum').item()  # sum up batch loss\n",
        "            pred = output.argmax(dim=1, keepdim=True)  # get the index of the max log-probability\n",
        "            correct += pred.eq(target.view_as(pred)).sum().item()\n",
        "\n",
        "    test_loss /= len(test_loader.dataset)\n",
        "\n",
        "    print('\\nTest set: Average loss: {:.4f}, Accuracy: {}/{} ({:.4f}%)\\n'.format(\n",
        "        test_loss, correct, len(test_loader.dataset),\n",
        "        100. * correct / len(test_loader.dataset)))"
      ],
      "execution_count": 6,
      "outputs": []
    },
    {
      "cell_type": "code",
      "metadata": {
        "id": "So5uk4EkHW6R",
        "colab": {
          "base_uri": "https://localhost:8080/"
        },
        "outputId": "b5dfe43e-0a96-4408-9b39-74e07dc00034"
      },
      "source": [
        "\n",
        "model = Net().to(device)\n",
        "optimizer = optim.SGD(model.parameters(), lr=0.01, momentum=0.9)\n",
        "\n",
        "for epoch in range(1, 20):\n",
        "    print(\"################# Epoch =\",str(epoch),\"#######################\")\n",
        "    train(model, device, train_loader, optimizer, epoch)\n",
        "    test(model, device, test_loader)"
      ],
      "execution_count": 7,
      "outputs": [
        {
          "output_type": "stream",
          "name": "stdout",
          "text": [
            "################# Epoch = 1 #######################\n"
          ]
        },
        {
          "output_type": "stream",
          "name": "stderr",
          "text": [
            "loss=0.6686771512031555 batch_id=468: 100%|██████████| 469/469 [00:22<00:00, 20.61it/s]\n"
          ]
        },
        {
          "output_type": "stream",
          "name": "stdout",
          "text": [
            "\n",
            "Test set: Average loss: 0.1489, Accuracy: 9704/10000 (97.0400%)\n",
            "\n",
            "################# Epoch = 2 #######################\n"
          ]
        },
        {
          "output_type": "stream",
          "name": "stderr",
          "text": [
            "loss=0.730696439743042 batch_id=468: 100%|██████████| 469/469 [00:18<00:00, 24.71it/s]\n"
          ]
        },
        {
          "output_type": "stream",
          "name": "stdout",
          "text": [
            "\n",
            "Test set: Average loss: 0.0900, Accuracy: 9827/10000 (98.2700%)\n",
            "\n",
            "################# Epoch = 3 #######################\n"
          ]
        },
        {
          "output_type": "stream",
          "name": "stderr",
          "text": [
            "loss=0.48139891028404236 batch_id=468: 100%|██████████| 469/469 [00:18<00:00, 25.56it/s]\n"
          ]
        },
        {
          "output_type": "stream",
          "name": "stdout",
          "text": [
            "\n",
            "Test set: Average loss: 0.0719, Accuracy: 9851/10000 (98.5100%)\n",
            "\n",
            "################# Epoch = 4 #######################\n"
          ]
        },
        {
          "output_type": "stream",
          "name": "stderr",
          "text": [
            "loss=0.5278867483139038 batch_id=468: 100%|██████████| 469/469 [00:18<00:00, 25.58it/s]\n"
          ]
        },
        {
          "output_type": "stream",
          "name": "stdout",
          "text": [
            "\n",
            "Test set: Average loss: 0.0640, Accuracy: 9848/10000 (98.4800%)\n",
            "\n",
            "################# Epoch = 5 #######################\n"
          ]
        },
        {
          "output_type": "stream",
          "name": "stderr",
          "text": [
            "loss=0.43508341908454895 batch_id=468: 100%|██████████| 469/469 [00:19<00:00, 23.65it/s]\n"
          ]
        },
        {
          "output_type": "stream",
          "name": "stdout",
          "text": [
            "\n",
            "Test set: Average loss: 0.0571, Accuracy: 9858/10000 (98.5800%)\n",
            "\n",
            "################# Epoch = 6 #######################\n"
          ]
        },
        {
          "output_type": "stream",
          "name": "stderr",
          "text": [
            "loss=0.4512786865234375 batch_id=468: 100%|██████████| 469/469 [00:18<00:00, 24.75it/s]\n"
          ]
        },
        {
          "output_type": "stream",
          "name": "stdout",
          "text": [
            "\n",
            "Test set: Average loss: 0.0489, Accuracy: 9875/10000 (98.7500%)\n",
            "\n",
            "################# Epoch = 7 #######################\n"
          ]
        },
        {
          "output_type": "stream",
          "name": "stderr",
          "text": [
            "loss=0.5738426446914673 batch_id=468: 100%|██████████| 469/469 [00:18<00:00, 25.06it/s]\n"
          ]
        },
        {
          "output_type": "stream",
          "name": "stdout",
          "text": [
            "\n",
            "Test set: Average loss: 0.0467, Accuracy: 9884/10000 (98.8400%)\n",
            "\n",
            "################# Epoch = 8 #######################\n"
          ]
        },
        {
          "output_type": "stream",
          "name": "stderr",
          "text": [
            "loss=0.45721080899238586 batch_id=468: 100%|██████████| 469/469 [00:18<00:00, 24.79it/s]\n"
          ]
        },
        {
          "output_type": "stream",
          "name": "stdout",
          "text": [
            "\n",
            "Test set: Average loss: 0.0420, Accuracy: 9887/10000 (98.8700%)\n",
            "\n",
            "################# Epoch = 9 #######################\n"
          ]
        },
        {
          "output_type": "stream",
          "name": "stderr",
          "text": [
            "loss=0.4907257556915283 batch_id=468: 100%|██████████| 469/469 [00:19<00:00, 24.34it/s]\n"
          ]
        },
        {
          "output_type": "stream",
          "name": "stdout",
          "text": [
            "\n",
            "Test set: Average loss: 0.0396, Accuracy: 9897/10000 (98.9700%)\n",
            "\n",
            "################# Epoch = 10 #######################\n"
          ]
        },
        {
          "output_type": "stream",
          "name": "stderr",
          "text": [
            "loss=0.4142589867115021 batch_id=468: 100%|██████████| 469/469 [00:19<00:00, 24.58it/s]\n"
          ]
        },
        {
          "output_type": "stream",
          "name": "stdout",
          "text": [
            "\n",
            "Test set: Average loss: 0.0354, Accuracy: 9904/10000 (99.0400%)\n",
            "\n",
            "################# Epoch = 11 #######################\n"
          ]
        },
        {
          "output_type": "stream",
          "name": "stderr",
          "text": [
            "loss=0.6172873377799988 batch_id=468: 100%|██████████| 469/469 [00:18<00:00, 25.27it/s]\n"
          ]
        },
        {
          "output_type": "stream",
          "name": "stdout",
          "text": [
            "\n",
            "Test set: Average loss: 0.0348, Accuracy: 9908/10000 (99.0800%)\n",
            "\n",
            "################# Epoch = 12 #######################\n"
          ]
        },
        {
          "output_type": "stream",
          "name": "stderr",
          "text": [
            "loss=0.431485652923584 batch_id=468: 100%|██████████| 469/469 [00:19<00:00, 24.50it/s]\n"
          ]
        },
        {
          "output_type": "stream",
          "name": "stdout",
          "text": [
            "\n",
            "Test set: Average loss: 0.0334, Accuracy: 9906/10000 (99.0600%)\n",
            "\n",
            "################# Epoch = 13 #######################\n"
          ]
        },
        {
          "output_type": "stream",
          "name": "stderr",
          "text": [
            "loss=0.5540325045585632 batch_id=468: 100%|██████████| 469/469 [00:19<00:00, 24.39it/s]\n"
          ]
        },
        {
          "output_type": "stream",
          "name": "stdout",
          "text": [
            "\n",
            "Test set: Average loss: 0.0368, Accuracy: 9905/10000 (99.0500%)\n",
            "\n",
            "################# Epoch = 14 #######################\n"
          ]
        },
        {
          "output_type": "stream",
          "name": "stderr",
          "text": [
            "loss=0.5314993262290955 batch_id=468: 100%|██████████| 469/469 [00:18<00:00, 25.27it/s]\n"
          ]
        },
        {
          "output_type": "stream",
          "name": "stdout",
          "text": [
            "\n",
            "Test set: Average loss: 0.0341, Accuracy: 9905/10000 (99.0500%)\n",
            "\n",
            "################# Epoch = 15 #######################\n"
          ]
        },
        {
          "output_type": "stream",
          "name": "stderr",
          "text": [
            "loss=0.5220826268196106 batch_id=468: 100%|██████████| 469/469 [00:18<00:00, 25.34it/s]\n"
          ]
        },
        {
          "output_type": "stream",
          "name": "stdout",
          "text": [
            "\n",
            "Test set: Average loss: 0.0353, Accuracy: 9910/10000 (99.1000%)\n",
            "\n",
            "################# Epoch = 16 #######################\n"
          ]
        },
        {
          "output_type": "stream",
          "name": "stderr",
          "text": [
            "loss=0.42854222655296326 batch_id=468: 100%|██████████| 469/469 [00:19<00:00, 24.32it/s]\n"
          ]
        },
        {
          "output_type": "stream",
          "name": "stdout",
          "text": [
            "\n",
            "Test set: Average loss: 0.0310, Accuracy: 9919/10000 (99.1900%)\n",
            "\n",
            "################# Epoch = 17 #######################\n"
          ]
        },
        {
          "output_type": "stream",
          "name": "stderr",
          "text": [
            "loss=0.5371251702308655 batch_id=468: 100%|██████████| 469/469 [00:19<00:00, 24.47it/s]\n"
          ]
        },
        {
          "output_type": "stream",
          "name": "stdout",
          "text": [
            "\n",
            "Test set: Average loss: 0.0299, Accuracy: 9917/10000 (99.1700%)\n",
            "\n",
            "################# Epoch = 18 #######################\n"
          ]
        },
        {
          "output_type": "stream",
          "name": "stderr",
          "text": [
            "loss=0.37640416622161865 batch_id=468: 100%|██████████| 469/469 [00:18<00:00, 25.27it/s]\n"
          ]
        },
        {
          "output_type": "stream",
          "name": "stdout",
          "text": [
            "\n",
            "Test set: Average loss: 0.0341, Accuracy: 9902/10000 (99.0200%)\n",
            "\n",
            "################# Epoch = 19 #######################\n"
          ]
        },
        {
          "output_type": "stream",
          "name": "stderr",
          "text": [
            "loss=0.5001823306083679 batch_id=468: 100%|██████████| 469/469 [00:18<00:00, 24.94it/s]\n"
          ]
        },
        {
          "output_type": "stream",
          "name": "stdout",
          "text": [
            "\n",
            "Test set: Average loss: 0.0317, Accuracy: 9911/10000 (99.1100%)\n",
            "\n"
          ]
        }
      ]
    },
    {
      "cell_type": "markdown",
      "source": [
        "## Final Results\n",
        "Total params: 11,952\n",
        "\n",
        "Total Epochs: 20\n",
        "\n",
        "Test set: Average loss: 0.0299, Accuracy: 9917/10000 (99.1700%)\n",
        "\n",
        "We were able to achine 99.1700% test accuracy on 17th epoch."
      ],
      "metadata": {
        "id": "HEKIgJgQJeGu"
      }
    },
    {
      "cell_type": "code",
      "source": [],
      "metadata": {
        "id": "W8BP9pcg_q43"
      },
      "execution_count": 7,
      "outputs": []
    }
  ]
}